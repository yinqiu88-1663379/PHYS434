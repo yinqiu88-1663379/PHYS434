{
 "cells": [
  {
   "cell_type": "code",
   "execution_count": 4,
   "metadata": {},
   "outputs": [],
   "source": [
    "# import library\n",
    "import numpy as np\n",
    "from scipy import stats\n",
    "from scipy.stats import poisson\n",
    "import matplotlib.pyplot as plt\n",
    "import pickle\n",
    "import pandas as pd\n",
    "# open the file of interest, and use pickle loading\n",
    "higgsdata = open (\"higgs_100000_pt_250_500.pkl\",'rb')\n",
    "higgs_dict = pickle.load(higgsdata)\n",
    "qcddata = open(\"qcd_100000_pt_250_500.pkl\",'rb')\n",
    "qcd_dict = pickle.load(qcddata)\n",
    "hi_lumi = pd.read_hdf('data_highLumi_pt_250_500.h5')\n",
    "low_lumi = pd.read_hdf('data_lowLumi_pt_250_500.h5')\n",
    "higgs_mass = higgs_dict['mass']\n",
    "qcd_mass = qcd_dict['mass']\n"
   ]
  },
  {
   "cell_type": "markdown",
   "metadata": {},
   "source": [
    "# LAB 7"
   ]
  },
  {
   "cell_type": "code",
   "execution_count": 5,
   "metadata": {},
   "outputs": [
    {
     "name": "stdout",
     "output_type": "stream",
     "text": [
      "125.15036485403486 0.3834739011002356 125.29872026896659 0.6933697749399292\n",
      "130.55267214662751 0.3132398111260766 88.0470543065784 0.6073084452604588\n",
      "125.70306309880351 0.43991668308005877 85.79417445424248 0.8324948619768904\n",
      "126.21585336608149 0.29946509799138826 42.94732814665354 0.6511974290251\n",
      "132.18250371689544 0.2308861578905958 59.54222652643443 0.4983617059694298\n",
      "125.67653506886116 0.087227813063026 52.25202892050295 0.9681512619071891\n",
      "127.65400794990293 0.37667719673415134 87.72005721179889 0.7099643238882115\n",
      "124.16656852260293 0.2465458958578114 59.648628855244354 0.7757240797377786\n",
      "122.13035265114684 0.5277391127700974 74.23631116158323 0.7452078488921513\n",
      "125.19144633816678 0.10415336256315426 41.90450338556174 0.8743525511272748\n"
     ]
    }
   ],
   "source": [
    "for i in range(10):\n",
    " print(higgs_mass[i],higgs_dict['t21'][i], qcd_mass[i],qcd_dict['t21'][i],)\n"
   ]
  },
  {
   "cell_type": "markdown",
   "metadata": {},
   "source": [
    "Make a stacked histogram plot for the feature variable: mass\n"
   ]
  },
  {
   "cell_type": "code",
   "execution_count": 6,
   "metadata": {},
   "outputs": [
    {
     "data": {
      "image/png": "[encoded data removed]",
      "text/plain": [
       "<Figure size 432x288 with 1 Axes>"
      ]
     },
     "metadata": {
      "needs_background": "light"
     },
     "output_type": "display_data"
    }
   ],
   "source": [
    "plt.xlabel(\"Mass\")\n",
    "plt.title(\"Mass Histogram for QCD and Higgs\")\n",
    "plt.hist(higgs_dict['mass'], 50)\n",
    "plt.hist(qcd_dict['mass'], 50)\n",
    "plt.show()"
   ]
  },
  {
   "cell_type": "markdown",
   "metadata": {},
   "source": [
    "The stacked histogram shows that the Higgs boson shows the distribution of QCD and Higgs. On the distribution, we found that Higgs have a mass of about 115 GeV with a narrow standard deviation compared to the QCD background. Higgs boson is more massive than most of the particles in the background. So we can use mass to distinguish higgs and qcd"
   ]
  },
  {
   "cell_type": "markdown",
   "metadata": {},
   "source": [
    "# part 1"
   ]
  },
  {
   "cell_type": "code",
   "execution_count": 7,
   "metadata": {},
   "outputs": [
    {
     "name": "stdout",
     "output_type": "stream",
     "text": [
      "0.7012225600355231\n",
      "0.7071067811865475\n"
     ]
    }
   ],
   "source": [
    "n_higgs = 100\n",
    "n_qcd = 20000\n",
    "n_tot = n_higgs + n_qcd\n",
    "test = n_higgs/np.sqrt(n_qcd)\n",
    "sig = stats.norm.ppf(stats.poisson.sf(n_qcd, n_tot))\n",
    "print(sig)\n",
    "print(test)"
   ]
  },
  {
   "cell_type": "markdown",
   "metadata": {},
   "source": [
    "The significance is approximately equal to  $\\frac{N_{Higgs}}{\\sqrt(N_{QCD})}$"
   ]
  },
  {
   "cell_type": "markdown",
   "metadata": {},
   "source": [
    "# part 2"
   ]
  },
  {
   "cell_type": "code",
   "execution_count": 13,
   "metadata": {},
   "outputs": [
    {
     "name": "stdout",
     "output_type": "stream",
     "text": [
      "The mass cut [124.77070707 126.88080808] gives a significance of 3.25\n"
     ]
    }
   ],
   "source": [
    "mass_cut = cut(higgs_dict, qcd_dict, 'mass', 110, 140, 20)\n",
    "print(f\"The mass cut {mass_cut[0]} gives a significance of {mass_cut[1]:.2f}\")"
   ]
  },
  {
   "cell_type": "markdown",
   "metadata": {},
   "source": [
    "Compared to the initial significance of about 0.71, the significance 3.25 of the cut is much higher."
   ]
  },
  {
   "cell_type": "code",
   "execution_count": 14,
   "metadata": {},
   "outputs": [
    {
     "ename": "NameError",
     "evalue": "name 't21_cut' is not defined",
     "output_type": "error",
     "traceback": [
      "\u001b[0;31m---------------------------------------------------------------------------\u001b[0m",
      "\u001b[0;31mNameError\u001b[0m                                 Traceback (most recent call last)",
      "\u001b[0;32m<ipython-input-14-00f625e5c272>\u001b[0m in \u001b[0;36m<module>\u001b[0;34m\u001b[0m\n\u001b[1;32m      4\u001b[0m \u001b[0mqcd_t21\u001b[0m \u001b[0;34m=\u001b[0m \u001b[0mqcd_mass_cut\u001b[0m\u001b[0;34m[\u001b[0m\u001b[0;34m't21'\u001b[0m\u001b[0;34m]\u001b[0m\u001b[0;34m\u001b[0m\u001b[0;34m\u001b[0m\u001b[0m\n\u001b[1;32m      5\u001b[0m \u001b[0;34m\u001b[0m\u001b[0m\n\u001b[0;32m----> 6\u001b[0;31m \u001b[0mhiggs_t21_cut\u001b[0m \u001b[0;34m=\u001b[0m \u001b[0mhiggs_mass_cut\u001b[0m\u001b[0;34m[\u001b[0m\u001b[0;34m(\u001b[0m\u001b[0mhiggs_t21\u001b[0m\u001b[0;34m>=\u001b[0m\u001b[0mt21_cut\u001b[0m\u001b[0;34m[\u001b[0m\u001b[0;36m0\u001b[0m\u001b[0;34m]\u001b[0m\u001b[0;34m[\u001b[0m\u001b[0;36m0\u001b[0m\u001b[0;34m]\u001b[0m\u001b[0;34m)\u001b[0m \u001b[0;34m&\u001b[0m \u001b[0;34m(\u001b[0m\u001b[0mhiggs_t21\u001b[0m\u001b[0;34m<=\u001b[0m\u001b[0mt21_cut\u001b[0m\u001b[0;34m[\u001b[0m\u001b[0;36m0\u001b[0m\u001b[0;34m]\u001b[0m\u001b[0;34m[\u001b[0m\u001b[0;36m1\u001b[0m\u001b[0;34m]\u001b[0m\u001b[0;34m)\u001b[0m\u001b[0;34m]\u001b[0m\u001b[0;34m\u001b[0m\u001b[0;34m\u001b[0m\u001b[0m\n\u001b[0m\u001b[1;32m      7\u001b[0m \u001b[0mqcd_t21_cut\u001b[0m \u001b[0;34m=\u001b[0m \u001b[0mqcd_mass_cut\u001b[0m\u001b[0;34m[\u001b[0m\u001b[0;34m(\u001b[0m\u001b[0mqcd_t21\u001b[0m\u001b[0;34m>=\u001b[0m\u001b[0mt21_cut\u001b[0m\u001b[0;34m[\u001b[0m\u001b[0;36m0\u001b[0m\u001b[0;34m]\u001b[0m\u001b[0;34m[\u001b[0m\u001b[0;36m0\u001b[0m\u001b[0;34m]\u001b[0m\u001b[0;34m)\u001b[0m \u001b[0;34m&\u001b[0m \u001b[0;34m(\u001b[0m\u001b[0mqcd_t21\u001b[0m\u001b[0;34m<=\u001b[0m\u001b[0mt21_cut\u001b[0m\u001b[0;34m[\u001b[0m\u001b[0;36m0\u001b[0m\u001b[0;34m]\u001b[0m\u001b[0;34m[\u001b[0m\u001b[0;36m1\u001b[0m\u001b[0;34m]\u001b[0m\u001b[0;34m)\u001b[0m\u001b[0;34m]\u001b[0m\u001b[0;34m\u001b[0m\u001b[0;34m\u001b[0m\u001b[0m\n\u001b[1;32m      8\u001b[0m \u001b[0;34m\u001b[0m\u001b[0m\n",
      "\u001b[0;31mNameError\u001b[0m: name 't21_cut' is not defined"
     ]
    }
   ],
   "source": [
    "higgs_mass_cut = higgs_dict[(higgs_mass>=mass_cut[0][0]) & (higgs_mass<=mass_cut[0][1])]\n",
    "qcd_mass_cut = qcd_dict[(qcd_mass>=mass_cut[0][0]) & (qcd_mass<=mass_cut[0][1])]\n",
    "higgs_t21 = higgs_mass_cut['t21']\n",
    "qcd_t21 = qcd_mass_cut['t21']\n",
    "\n",
    "higgs_t21_cut = higgs_mass_cut[(higgs_t21>=t21_cut[0][0]) & (higgs_t21<=t21_cut[0][1])]\n",
    "qcd_t21_cut = qcd_mass_cut[(qcd_t21>=t21_cut[0][0]) & (qcd_t21<=t21_cut[0][1])]\n",
    "\n",
    "\n"
   ]
  },
  {
   "cell_type": "markdown",
   "metadata": {},
   "source": [
    "# part 3 "
   ]
  },
  {
   "cell_type": "markdown",
   "metadata": {},
   "source": [
    "Feature plots without the mass cuts"
   ]
  },
  {
   "cell_type": "code",
   "execution_count": null,
   "metadata": {},
   "outputs": [],
   "source": [
    "fig, ax = plt.subplots(higgs_dict.shape[1], 1, figsize=(10, 50))\n",
    "for i, feature in enumerate(higgs_dict):\n",
    "    ax[i].hist(qcd_dict[feature], 50, density=True, label=\"QCD\")\n",
    "    ax[i].hist(higgs_dict[feature], 50, density=True, label=\"Higgs\", alpha=0.7)\n",
    "    ax[i].title.set_text(f\"Stacked {feature} Histogram for QCD and Higgs\")\n",
    "    ax[i].legend()"
   ]
  },
  {
   "cell_type": "markdown",
   "metadata": {},
   "source": [
    "Feature plots with mass cuts"
   ]
  },
  {
   "cell_type": "code",
   "execution_count": null,
   "metadata": {},
   "outputs": [],
   "source": [
    "fig, ax = plt.subplots(higgs_dict.shape[1], 1, figsize=(10, 50))\n",
    "for i, feature in enumerate(higgs_dict):\n",
    "    ax[i].hist(qcd_mass_cut[feature], 50, density=True, label=\"QCD\")\n",
    "    ax[i].hist(higgs_mass_cut[feature], 50, density=True, label=\"Higgs\", alpha=0.7)\n",
    "    ax[i].title.set_text(f\"{feature} Histogram for QCD and Higgs\")\n",
    "    ax[i].legend()"
   ]
  },
  {
   "cell_type": "markdown",
   "metadata": {},
   "source": [
    "# part 4 "
   ]
  },
  {
   "cell_type": "markdown",
   "metadata": {},
   "source": [
    "Optimize event selections using multiple features \n",
    "Applying t21 feature cuts"
   ]
  },
  {
   "cell_type": "code",
   "execution_count": null,
   "metadata": {},
   "outputs": [],
   "source": [
    "t21_cut = cut(higgs_mass_cut, qcd_mass_cut, 't21', 0, 5, 5, mass_cut[2], mass_cut[3])\n",
    "print(f\"The t21 cut {t21_cut[0]} gives a significance of {t21_cut[1]:.2f}\")\n"
   ]
  },
  {
   "cell_type": "code",
   "execution_count": null,
   "metadata": {},
   "outputs": [],
   "source": [
    "fig, ax = plt.subplots(higgs_dict.shape[1], 1, figsize=(10, 50))\n",
    "for i, feature in enumerate(higgs_dict):\n",
    "    ax[i].hist(qcd_t21_cut[feature], 30, density=True, label=\"QCD\")\n",
    "    ax[i].hist(higgs_t21_cut[feature], 30, density=True, label=\"Higgs\", alpha=0.7)\n",
    "    ax[i].title.set_text(f\"Stacked {feature} Histogram for QCD and Higgs\")\n",
    "    ax[i].legend()"
   ]
  },
  {
   "cell_type": "code",
   "execution_count": null,
   "metadata": {},
   "outputs": [],
   "source": [
    "n_higgs_t21 = np.round(t21_cut[2])   \n",
    "n_qcd_t21 = np.round(t21_cut[3])    \n",
    "n_tot_t21 = n_higgs_t21 + n_qcd_t21\n",
    "sig = stats.norm.ppf(stats.poisson.sf(n_qcd_t21, n_tot_t21))\n",
    "print(f'Calculating with Poisson statistics yeilds a significance of {sig:.2f}')"
   ]
  },
  {
   "cell_type": "markdown",
   "metadata": {},
   "source": [
    "# lab 8"
   ]
  },
  {
   "cell_type": "markdown",
   "metadata": {},
   "source": [
    "High luminosity data"
   ]
  },
  {
   "cell_type": "code",
   "execution_count": null,
   "metadata": {},
   "outputs": [],
   "source": [
    "h_mc = hi_lumi[(hi_lumi['mass']>=mass_cut[0][0]) & (hi_lumi['mass']<=mass_cut[0][1])]\n",
    "h_t21c = h_mc[(h_mc['t21']>=t21_cut[0][0]) & (h_mc['t21']<=t21_cut[0][1])]\n",
    "for i in range(10):\n",
    " print(hi_lumi['mass'][i],hi_lumi['t21'][i])\n",
    "\n"
   ]
  },
  {
   "cell_type": "code",
   "execution_count": null,
   "metadata": {},
   "outputs": [],
   "source": [
    "plt.title(\"Mass Histogram Without Event Selection\")\n",
    "plt.hist(hi_lumi['mass'], 50, density=True, alpha=1, label=\"High Luminosity Data\")\n",
    "plt.hist(higgs_mass, 50, density=True, alpha=0.5, label=\"Signal\")\n",
    "plt.hist(qcd_mass, 50, density=True, alpha=0.5, label=\"Background\")\n",
    "plt.legend()\n",
    "plt.show()"
   ]
  },
  {
   "cell_type": "code",
   "execution_count": null,
   "metadata": {},
   "outputs": [],
   "source": [
    "plt.title(\"Mass Histogram With Mass Cuts\")\n",
    "plt.hist(h_mc['mass'], density=True, label=\"High Luminosity Data\")\n",
    "plt.hist(higgs_mass_cut['mass'], density=True, alpha=0.5, label=\"Signal\")\n",
    "plt.hist(qcd_mass_cut['mass'], density=True, alpha=0.5, label=\"QCD\")\n",
    "plt.legend()\n",
    "plt.plot()"
   ]
  },
  {
   "cell_type": "code",
   "execution_count": null,
   "metadata": {},
   "outputs": [],
   "source": [
    "plt.title(\"t21 Histogram Without Event Selection\")\n",
    "plt.hist(hi_lumi['t21'], 50, density=True, label=\"High Luminosity Data\")\n",
    "plt.hist(higgs_dict['t21'], 50, density=True, alpha=0.5, label=\"Signal\")\n",
    "plt.hist(qcd_dict['t21'], 50, density=True, alpha=0.5, label=\"Background\")\n",
    "plt.legend()\n",
    "plt.show()"
   ]
  },
  {
   "cell_type": "code",
   "execution_count": null,
   "metadata": {},
   "outputs": [],
   "source": [
    "plt.title(\"t21 Histogram With Mass and t2 Cuts\")\n",
    "plt.hist(h_t21c['t21'],density=True, label=\"High Luminosity Data\")\n",
    "plt.hist(higgs_t21_cut['t21'],density=True, alpha=0.5, label=\"Signal\")\n",
    "plt.hist(qcd_t21_cut['t21'], density=True, alpha=0.3, label=\"QCD\")\n",
    "plt.legend()\n",
    "plt.plot()"
   ]
  },
  {
   "cell_type": "code",
   "execution_count": null,
   "metadata": {},
   "outputs": [],
   "source": []
  },
  {
   "cell_type": "markdown",
   "metadata": {},
   "source": [
    "40 Higgs Bosons were expected and 50 were determined to be in the high luminosity dataset with a 5.18 sigma significance.\n"
   ]
  },
  {
   "cell_type": "markdown",
   "metadata": {},
   "source": [
    "Low Luminosity Data"
   ]
  },
  {
   "cell_type": "code",
   "execution_count": null,
   "metadata": {},
   "outputs": [],
   "source": [
    "l_mc = low_lumi[(low_lumi['mass']>=mass_cut[0][0]) & (low_lumi['mass']<=mass_cut[0][1])]\n",
    "l_t21c = l_mc[(l_mc['t21']>=t21_cut[0][0]) & (l_mc['t21']<=t21_cut[0][1])]\n",
    "for i in range(10):\n",
    " print(low_lumi['mass'][i],low_lumi['t21'][i])"
   ]
  },
  {
   "cell_type": "code",
   "execution_count": null,
   "metadata": {},
   "outputs": [],
   "source": [
    "plt.title(\"Mass Histogram Without Event Selection\")\n",
    "plt.hist(low_lumi['mass'], 50, density=True, label=\"Low Luminosity Data\")\n",
    "plt.hist(higgs_mass, 50, density=True, alpha=0.5, label=\"Signal\")\n",
    "plt.hist(qcd_mass, 50, density=True, alpha=0.5, label=\"Background\")\n",
    "plt.legend()\n",
    "plt.show()\n"
   ]
  },
  {
   "cell_type": "code",
   "execution_count": null,
   "metadata": {},
   "outputs": [],
   "source": [
    "plt.title(\"Mass Histogram With Mass Cuts\")\n",
    "plt.hist(l_mc['mass'], density=True, label=\"Low Luminosity Data\")\n",
    "plt.hist(higgs_mass_cut['mass'], density=True, alpha=0.5, label=\"Signal\")\n",
    "plt.hist(qcd_mass_cut['mass'], density=True, alpha=0.5, label=\"QCD\")\n",
    "plt.legend()\n",
    "plt.plot()"
   ]
  },
  {
   "cell_type": "code",
   "execution_count": null,
   "metadata": {},
   "outputs": [],
   "source": [
    "plt.title(\"t21 Histogram Without Event Selection\")\n",
    "plt.hist(low_lumi['t21'], 50, density=True, label=\"Low Luminosity Data\")\n",
    "plt.hist(higgs_dict['t21'], 50, density=True, alpha=0.5, label=\"Signal\")\n",
    "plt.hist(qcd_dict['t21'], 50, density=True, alpha=0.5, label=\"Background\")\n",
    "plt.legend()\n",
    "plt.show()"
   ]
  },
  {
   "cell_type": "code",
   "execution_count": null,
   "metadata": {},
   "outputs": [],
   "source": [
    "plt.title(\"t21 Histogram With Mass and t21 Cuts\")\n",
    "plt.hist(l_t21c['t21'], density=True, label=\"Low Luminosity Data\")\n",
    "plt.hist(higgs_t21_cut['t21'], density=True, alpha=0.5, label=\"Signal\")\n",
    "plt.hist(qcd_t21_cut['t21'], density=True, alpha=0.5, label=\"QCD\")\n",
    "plt.legend()\n",
    "plt.plot()"
   ]
  },
  {
   "cell_type": "code",
   "execution_count": null,
   "metadata": {},
   "outputs": [],
   "source": [
    "len(l_d2c)"
   ]
  },
  {
   "cell_type": "markdown",
   "metadata": {},
   "source": [
    "4 Higgs bosons were expected and 3 were determined to be in the high luminosity dataset with a 5.18 sigma significance."
   ]
  },
  {
   "cell_type": "markdown",
   "metadata": {},
   "source": [
    "Evaluating Confidence Level for Low Luminosity Data"
   ]
  },
  {
   "cell_type": "code",
   "execution_count": 15,
   "metadata": {},
   "outputs": [
    {
     "name": "stdout",
     "output_type": "stream",
     "text": [
      "6.0\n"
     ]
    }
   ],
   "source": [
    "expected = stats.norm.ppf(stats.norm.cdf(2),loc=4)\n",
    "print(expected)"
   ]
  },
  {
   "cell_type": "code",
   "execution_count": 16,
   "metadata": {},
   "outputs": [
    {
     "name": "stdout",
     "output_type": "stream",
     "text": [
      "5.0\n"
     ]
    }
   ],
   "source": [
    "observed = stats.norm.ppf(stats.norm.cdf(2),loc=3)\n",
    "print(observed)"
   ]
  },
  {
   "cell_type": "markdown",
   "metadata": {},
   "source": [
    "The expected 95% confidence level upper limit is 5 counts of Higgs bosons.\n",
    "The observed number of Higgs bosons falls within the expected 95% confidence limit for the low luminosity dataset. This means that the feature cuts effectively removed noise and returned a number of Higgs bosons that was expected."
   ]
  },
  {
   "cell_type": "code",
   "execution_count": null,
   "metadata": {},
   "outputs": [],
   "source": []
  },
  {
   "cell_type": "code",
   "execution_count": null,
   "metadata": {},
   "outputs": [],
   "source": []
  },
  {
   "cell_type": "markdown",
   "metadata": {},
   "source": [
    "# supported function"
   ]
  },
  {
   "cell_type": "code",
   "execution_count": 12,
   "metadata": {},
   "outputs": [],
   "source": [
    "def cut(higgs, qcd, feature, lower, upper, max_size, n_h=n_higgs, n_q=n_qcd):\n",
    "    cut_max = 0\n",
    "    cut_size = 1\n",
    "    sig_max = sig  \n",
    "    n_higgs_var = n_higgs    \n",
    "    n_qcd_var = n_qcd       \n",
    "    hf = higgs[feature]\n",
    "    qf = qcd[feature]\n",
    "    size_arr = np.linspace(.1, max_size, 100)\n",
    "\n",
    "    for size in size_arr:\n",
    "        cuts = np.arange(lower, upper, size)\n",
    "        for i, cut in enumerate(cuts):\n",
    "            higgs_cut = np.array(hf[hf>cut][hf < cut + size])\n",
    "            qcd_cut = np.array(qf[qf>cut][qf < cut + size])\n",
    "            rat_h = len(higgs_cut)/len(higgs)\n",
    "            rat_q = len(qcd_cut)/len(qcd)\n",
    "            adj_n_h = n_h * rat_h\n",
    "            adj_n_q = n_q * rat_q\n",
    "            adj_n_q = 1 if adj_n_q == 0 else adj_n_q\n",
    "            adj_sig = adj_n_h/np.sqrt(adj_n_q)\n",
    "            if (adj_sig > sig_max):\n",
    "                cut_max = cut\n",
    "                cut_size = size\n",
    "                sig_max = adj_sig\n",
    "                n_higgs_var = adj_n_h\n",
    "                n_qcd_var = adj_n_q\n",
    "    mass_cuts = np.array((cut_max, cut_max + cut_size))\n",
    "    return mass_cuts, sig_max, n_higgs_var, n_qcd_var"
   ]
  },
  {
   "cell_type": "code",
   "execution_count": null,
   "metadata": {},
   "outputs": [],
   "source": []
  },
  {
   "cell_type": "code",
   "execution_count": null,
   "metadata": {},
   "outputs": [],
   "source": []
  },
  {
   "cell_type": "code",
   "execution_count": null,
   "metadata": {},
   "outputs": [],
   "source": []
  }
 ],
 "metadata": {
  "kernelspec": {
   "display_name": "Python 3",
   "language": "python",
   "name": "python3"
  },
  "language_info": {
   "codemirror_mode": {
    "name": "ipython",
    "version": 3
   },
   "file_extension": ".py",
   "mimetype": "text/x-python",
   "name": "python",
   "nbconvert_exporter": "python",
   "pygments_lexer": "ipython3",
   "version": "3.7.3"
  }
 },
 "nbformat": 4,
 "nbformat_minor": 2
}
